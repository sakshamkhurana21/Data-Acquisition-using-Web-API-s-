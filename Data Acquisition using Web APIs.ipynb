{
 "cells": [
  {
   "cell_type": "markdown",
   "id": "78ffaf83",
   "metadata": {},
   "source": [
    "\n",
    "Web APIs are basically kind of an interface which help us to access data on a web server.\n",
    "We can access data from Facebook, Twitter or Google maps using an API call.\n"
   ]
  },
  {
   "cell_type": "markdown",
   "id": "a1b3d708",
   "metadata": {},
   "source": [
    "# Json"
   ]
  },
  {
   "cell_type": "markdown",
   "id": "cac3536d",
   "metadata": {},
   "source": [
    "Javascript object Notation\n",
    "Dictionary Like Data Structure : key-value pairs \n",
    "Keys are strings, values can be anything \n",
    "Easy to read and write "
   ]
  },
  {
   "cell_type": "markdown",
   "id": "fff1c01f",
   "metadata": {},
   "source": [
    "# XML"
   ]
  },
  {
   "cell_type": "markdown",
   "id": "b481d0f8",
   "metadata": {},
   "source": [
    "eXtensible Markup Language \n",
    "Custom Tags and no style"
   ]
  },
  {
   "cell_type": "markdown",
   "id": "f99d81a6",
   "metadata": {},
   "source": [
    "# Data Acquisition - Web API's "
   ]
  },
  {
   "cell_type": "markdown",
   "id": "ed3a5f58",
   "metadata": {},
   "source": [
    "Application Programming Interface - Set of routines running over web server. \n",
    "Connects Application & Database \n",
    "Specify Data with URL\n",
    "Retrieve data and Parse it\n",
    "API may return data in JSON, XML data formats"
   ]
  },
  {
   "cell_type": "markdown",
   "id": "b079c54d",
   "metadata": {},
   "source": [
    "# Type of requests "
   ]
  },
  {
   "cell_type": "markdown",
   "id": "4680acf1",
   "metadata": {},
   "source": [
    "GET, POST, DELETE, PUT, PATCH\n",
    "\n"
   ]
  },
  {
   "cell_type": "markdown",
   "id": "ed5ce911",
   "metadata": {},
   "source": [
    "Libraries in Python we can use -> Urllib, Requests "
   ]
  },
  {
   "cell_type": "code",
   "execution_count": 2,
   "id": "8efb6ad0",
   "metadata": {},
   "outputs": [],
   "source": [
    "from urllib.request import urlopen"
   ]
  },
  {
   "cell_type": "code",
   "execution_count": 24,
   "id": "f90825d8",
   "metadata": {},
   "outputs": [],
   "source": [
    "api_url=\"http://api.weatherstack.com/current?access_key = a6f12958dbffb2075979ab4da0af567e&query = New York\"\n",
    "api_url = api_url.replace(\" \", \"%20\")"
   ]
  },
  {
   "cell_type": "code",
   "execution_count": 26,
   "id": "2c6fb41b",
   "metadata": {},
   "outputs": [
    {
     "name": "stdout",
     "output_type": "stream",
     "text": [
      "<http.client.HTTPResponse object at 0x7f9600b50070>\n",
      "b'{\\n  \"success\": false,\\n  \"error\": {\\n    \"code\": 101,\\n    \"type\": \"missing_access_key\",\\n    \"info\": \"You have not supplied an API Access Key. [Required format: access_key=YOUR_ACCESS_KEY]\"\\n  }\\n}\\n'\n"
     ]
    }
   ],
   "source": [
    "url_result=urlopen(api_url)\n",
    "print(url_result)\n",
    "data=url_result.read()\n",
    "print(data)"
   ]
  },
  {
   "cell_type": "code",
   "execution_count": 28,
   "id": "e983bcd3",
   "metadata": {},
   "outputs": [],
   "source": [
    "import json \n",
    "json_data=json.loads(data)"
   ]
  },
  {
   "cell_type": "code",
   "execution_count": 29,
   "id": "c60689e3",
   "metadata": {},
   "outputs": [
    {
     "data": {
      "text/plain": [
       "{'success': False,\n",
       " 'error': {'code': 101,\n",
       "  'type': 'missing_access_key',\n",
       "  'info': 'You have not supplied an API Access Key. [Required format: access_key=YOUR_ACCESS_KEY]'}}"
      ]
     },
     "execution_count": 29,
     "metadata": {},
     "output_type": "execute_result"
    }
   ],
   "source": [
    "json_data"
   ]
  },
  {
   "cell_type": "code",
   "execution_count": 30,
   "id": "569e98c0",
   "metadata": {},
   "outputs": [
    {
     "name": "stdout",
     "output_type": "stream",
     "text": [
      "{\"success\": false, \"error\": {\"code\": 101, \"type\": \"missing_access_key\", \"info\": \"You have not supplied an API Access Key. [Required format: access_key=YOUR_ACCESS_KEY]\"}}\n"
     ]
    }
   ],
   "source": [
    "json_string = json.dumps(json_data)\n",
    "print(json_string)"
   ]
  },
  {
   "cell_type": "markdown",
   "id": "6a7fa456",
   "metadata": {},
   "source": [
    "# 2. Google API"
   ]
  },
  {
   "cell_type": "code",
   "execution_count": 33,
   "id": "0a916a0e",
   "metadata": {},
   "outputs": [],
   "source": [
    "import requests"
   ]
  },
  {
   "cell_type": "code",
   "execution_count": 34,
   "id": "1e0ae6f3",
   "metadata": {},
   "outputs": [],
   "source": [
    "url=\"https://maps.googleapis.com/maps/api/geocode/json?\""
   ]
  },
  {
   "cell_type": "code",
   "execution_count": 36,
   "id": "86ba2b81",
   "metadata": {},
   "outputs": [],
   "source": [
    "parameters={\n",
    "    \"address\" : \"coding blocks pitampura\"\n",
    "}"
   ]
  },
  {
   "cell_type": "code",
   "execution_count": 37,
   "id": "7fa8bf31",
   "metadata": {},
   "outputs": [],
   "source": [
    "r=requests.get(url,params=parameters)"
   ]
  },
  {
   "cell_type": "code",
   "execution_count": 38,
   "id": "eb72d2c7",
   "metadata": {},
   "outputs": [
    {
     "data": {
      "text/plain": [
       "'https://maps.googleapis.com/maps/api/geocode/json?address=coding+blocks+pitampura'"
      ]
     },
     "execution_count": 38,
     "metadata": {},
     "output_type": "execute_result"
    }
   ],
   "source": [
    "r.url"
   ]
  },
  {
   "cell_type": "code",
   "execution_count": 41,
   "id": "6548f15a",
   "metadata": {},
   "outputs": [
    {
     "name": "stdout",
     "output_type": "stream",
     "text": [
      "b'{\\n   \"error_message\" : \"You must use an API key to authenticate each request to Google Maps Platform APIs. For additional information, please refer to http://g.co/dev/maps-no-account\",\\n   \"results\" : [],\\n   \"status\" : \"REQUEST_DENIED\"\\n}\\n'\n"
     ]
    }
   ],
   "source": [
    "print(r.content)\n"
   ]
  },
  {
   "cell_type": "code",
   "execution_count": 42,
   "id": "0e1e2444",
   "metadata": {},
   "outputs": [
    {
     "name": "stdout",
     "output_type": "stream",
     "text": [
      "Requirement already satisfied: requests in /Users/sakshamkhurana/opt/anaconda3/lib/python3.9/site-packages (2.26.0)\r\n",
      "Requirement already satisfied: idna<4,>=2.5 in /Users/sakshamkhurana/opt/anaconda3/lib/python3.9/site-packages (from requests) (3.2)\r\n",
      "Requirement already satisfied: urllib3<1.27,>=1.21.1 in /Users/sakshamkhurana/opt/anaconda3/lib/python3.9/site-packages (from requests) (1.26.7)\r\n",
      "Requirement already satisfied: charset-normalizer~=2.0.0 in /Users/sakshamkhurana/opt/anaconda3/lib/python3.9/site-packages (from requests) (2.0.4)\r\n",
      "Requirement already satisfied: certifi>=2017.4.17 in /Users/sakshamkhurana/opt/anaconda3/lib/python3.9/site-packages (from requests) (2021.10.8)\r\n"
     ]
    }
   ],
   "source": [
    "!pip install requests"
   ]
  },
  {
   "cell_type": "markdown",
   "id": "14e6bea7",
   "metadata": {},
   "source": [
    "# Using Facebook API's  "
   ]
  },
  {
   "cell_type": "code",
   "execution_count": 43,
   "id": "ef6c80c1",
   "metadata": {},
   "outputs": [],
   "source": [
    "import requests"
   ]
  },
  {
   "cell_type": "code",
   "execution_count": 44,
   "id": "b0570f49",
   "metadata": {},
   "outputs": [],
   "source": [
    "url= \"http://graph.facebook.com/4/picture?type=large\""
   ]
  },
  {
   "cell_type": "code",
   "execution_count": 45,
   "id": "616e1f0a",
   "metadata": {},
   "outputs": [
    {
     "name": "stdout",
     "output_type": "stream",
     "text": [
      "b'\\xff\\xd8\\xff\\xe0\\x00\\x10JFIF\\x00\\x01\\x01\\x00\\x00\\x01\\x00\\x01\\x00\\x00\\xff\\xed\\x00\\x9cPhotoshop 3.0\\x008BIM\\x04\\x04\\x00\\x00\\x00\\x00\\x00\\x80\\x1c\\x02g\\x00\\x14Oo_4h-UroqduidscdVKp\\x1c\\x02(\\x00bFBMD0a000a820100009c0200006d03000090030000c30300004804000037050000e10500001f06000074060000ef070000\\xff\\xdb\\x00C\\x00\\x06\\x04\\x05\\x06\\x05\\x04\\x06\\x06\\x05\\x06\\x07\\x07\\x06\\x08\\n\\x10\\n\\n\\t\\t\\n\\x14\\x0e\\x0f\\x0c\\x10\\x17\\x14\\x18\\x18\\x17\\x14\\x16\\x16\\x1a\\x1d%\\x1f\\x1a\\x1b#\\x1c\\x16\\x16 , #&\\')*)\\x19\\x1f-0-(0%()(\\xff\\xdb\\x00C\\x01\\x07\\x07\\x07\\n\\x08\\n\\x13\\n\\n\\x13(\\x1a\\x16\\x1a((((((((((((((((((((((((((((((((((((((((((((((((((\\xff\\xc2\\x00\\x11\\x08\\x00\\xc8\\x00\\xc8\\x03\\x01\"\\x00\\x02\\x11\\x01\\x03\\x11\\x01\\xff\\xc4\\x00\\x1a\\x00\\x01\\x01\\x01\\x01\\x01\\x01\\x01\\x00\\x00\\x00\\x00\\x00\\x00\\x00\\x00\\x00\\x00\\x04\\x05\\x01\\x03\\x02\\x06\\xff\\xc4\\x00\\x15\\x01\\x01\\x01\\x00\\x00\\x00\\x00\\x00\\x00\\x00\\x00\\x00\\x00\\x00\\x00\\x00\\x00\\x00\\x01\\xff\\xda\\x00\\x0c\\x03\\x01\\x00\\x02\\x10\\x03\\x10\\x00\\x00\\x01\\xfd\\xc8\\xb0\\x00\\x00\\x00\\x00\\x00\\x00\\x00\\x00\\x00\\x00\\x00\\x01\\xdf\\xadB*)G\\x97\\xcf\\xb9r|\\xb6#\\xb27x\\x00\\x00\\x00\\x00\\x00\\x03\\xd4\\xd0\\xf6%\\x00\\x00\\'\\xcc\\xdb\\xc8\\xb3\\xcc\\x00\\x00\\x00\\x00\\x00\\xaeKK\\x84\\xa0\\x00\\x03/S1\\'\\x14\\x00\\x00\\x00\\x00\\n\\xe4\\xbc\\xb0J\\x00\\x002\\xb5s\\xd2A@\\x00\\x00\\x00\\x00\\xd5\\xca\\xd1*\\x12\\x80\\x00\\t\\xa9\\x89!\\x14\\x00\\x00\\x00\\x00\\x0f\\xbf\\x81\\xb3\\xf5-R\\x80\\x00\\x1eYu\\xc5`\\x00\\x00\\x00\\x00\\x00\\x07\\xb6\\xae%\\xe5\\x82P\\x1c\\xecD\\xbee\\x80\\x00\\x00\\x00\\x00\\x00\\x0b\\xa1\\xd2)\\x12\\x80\\x8a\\xd9\\x8c\\xd1`\\x00\\x00\\x00\\x00\\x00}\\xdaK\\xa9\\xd4\\xa0\\x00\\xe7FW\\x8e\\xdc\\x96g\\xbe\\xfe\\x00\\x00\\x00\\x01a-\\xb5\\xf69\\xd1@\\x00\\x00\\x00\\xe4\\x96\\x0co\\x9d\\xa8l\\x8c\\x00>\\xbetOObP\\x00\\x00\\x00\\x00\\x00\\x00<s6eL\\xe1]\\xd9\\x0e\\x89@\\x00\\x00\\x00\\x00\\x00\\x00p1\\x85\\x9f\\xff\\xc4\\x00%\\x10\\x00\\x02\\x01\\x02\\x06\\x02\\x02\\x03\\x00\\x00\\x00\\x00\\x00\\x00\\x00\\x00\\x01\\x02\\x03\\x000\\x04\\x11\\x12 !@\"3\\x102\\x131P\\xff\\xda\\x00\\x08\\x01\\x01\\x00\\x01\\x05\\x02\\xfe\\xe2\\xc2M\\x08V\\xbf\\x1a\\xd1\\x89M:\\x14=$]E\\x14(\\xd8\\xeb\\xa9L\\x06\\x8f\\x1d\\x18\\x97J\\xef\\x995\\x0b\\xf1\\x8c\\xde\\xcb\\x8c\\x9e\\xf6\\x1f\\xedfoe\\xec7\\xee\\xcc\\xfe\\xcb\\xd8\\x7f\\xb5\\x99\\xbd\\x97\\xa0KS\\xa6W\\xe2\\xf5\\xd9\\xc4}/a\\xcf\\x8d\\x9cA\\xbe\\xacT\\xa9\\xd4\\xbb\\xe4m*Nf\\xfe\\x1c\\xf8o\\xc4\\x9e\\x8cM\\xa5\\xb7\\x1e\\x03\\xb6\\xa6\\xe8\\xe1\\xc9\\xdd\\x89\\xe9\\xe1\\xb7bzxq\\xe1\\xb7\\x10<:1\\xa1r8\\x1bO\"D(o*\\x96\\xa4\\x86\\xd3\\xc3L\\xa5m\\x80M$48\\xb8y\\xa7\\x86\\x88\"\\xc2C@\\x01\\xd0 \\x1axv\\x81\\x99\\x8e0\\xbdI#\\rDd~ \\\\\\x87Vu\\xcc|\\x0e\\x07T\\xf2+\\xff\\xc4\\x00\\x14\\x11\\x01\\x00\\x00\\x00\\x00\\x00\\x00\\x00\\x00\\x00\\x00\\x00\\x00\\x00\\x00\\x00p\\xff\\xda\\x00\\x08\\x01\\x03\\x01\\x01?\\x01)\\xff\\xc4\\x00\\x16\\x11\\x00\\x03\\x00\\x00\\x00\\x00\\x00\\x00\\x00\\x00\\x00\\x00\\x00\\x00\\x00\\x00\\x010p\\xff\\xda\\x00\\x08\\x01\\x02\\x01\\x01?\\x01\\x8e\\x16\\xff\\x00\\xff\\xc4\\x00#\\x10\\x00\\x01\\x04\\x01\\x04\\x02\\x03\\x01\\x00\\x00\\x00\\x00\\x00\\x00\\x00\\x00\\x01\\x00\\x11!0@ \"Qa\\x12A\\x101P2\\xff\\xda\\x00\\x08\\x01\\x01\\x00\\x06?\\x02\\xfd\\xc9\\x85\\xca\\xfeB\\xfa\\xc4`\\xa3K(8]\\xd0\\xfe\\xf0\\x05F\\xf3Q\\xbc\\xd4o5\\x1b\\xfc\\xaa\\xf2\\xbcd\\xb5@^\\xe1\\x03C\\xa78\\r\\xc5\\x00`\\xf5C\\xe1\\x11\\xebP\\xe3\\x0c\\xea\\x1f\\x97\\xd5\\x1d_\\x0bu[T\\xd7\\x0br\\x8b%mSF\\xe5\\x18\\x12\\xb6\\xe9`\\xbb\\xc4\\xed1\\xf9~q\\x9f\\x8c\\xbf\\xff\\xc4\\x00$\\x10\\x01\\x00\\x01\\x03\\x04\\x02\\x02\\x03\\x01\\x00\\x00\\x00\\x00\\x00\\x00\\x00\\x01\\x11\\x00!10@AQ a\\x10\\xb1Pq\\x81\\xa1\\xff\\xda\\x00\\x08\\x01\\x01\\x00\\x01?!\\xfc\\xd8+\\x01-e\\xa5\\x03\\x99\\xfe\\xbe\\x10\\xee\\x1f\\xaa\\x8878viY\\n\\x1f\\xdf\\x10eD3zh*\\x12\\x1d\\x8c\\x7fk\\xba\\x16\\x16\\x1b\\x08\\xf7\\x19\\xd2\\x8a\\xfb\\xd77\\xba?\\x07\\x8f\\xf8\\x8dwk\\xd6\\x92\\x9d~\\x00\\x9d\\xde4\\xa5A\\xcb}w?\\xafK\\xed\\xd7\\x99\\xf2\\x1d/\\xbb\\xd8L\\xf7\\x86\\x869-3dv\\x12.\\xcd\\x0f\\xb2\\xd8\\xdd\\xdc\\xac\\xd1\\x7f$\"\\xe0\\xa9-\\x91\\xc2a\\x8f$\\xdb7l\\xc5\\x9f\\x90\\xb3\\xd9\\xc1>\\xdf)\\'\\xd3\\xb2\\xe9\\x1c\\x9a\\x00\\x06\\x0f  \\xe1\\xae\\xd1\\xc1\\xd7B\\x0c\\xd0\\x97R\\xf5A\\x04\\x18\\xd0I!\\xc5\\x0bu\\x0fT\\x84\\x18\\xd3v\\x0c\\xb4%\\xdc\\xfa(\\x02\\x04\\x1a\\x80\\x10$\\xa1n\\xe3\\xd3N\\xc1\\x87\\xcc\\xbe)\\x9b\\xdb\\xea\\x89\\x81\\x06\\xc0\\x98\\x12S\\x17\\xbf\\xd56\\xcf\\x83\\x15\\xc5\\xa0{\\xef\\xb4\\x07\\xae\\xf4\\xcda>o\\xbc\\xfd6\\xd6\\xde~\\x01(wB\\x00\\xe3l$\\x1ei!N\\xab\\xff\\xda\\x00\\x0c\\x03\\x01\\x00\\x02\\x00\\x03\\x00\\x00\\x00\\x10\\xfb\\xef\\xbe\\xfb\\xef\\xbe\\xfb\\xef\\xbe\\xfb\\xef\\xbe\\xfa\\xef\\xecWo\\xbe\\xfb\\xef\\xbe\\xfb\\xa7<\\xf3\\xc6~\\xfb\\xef\\xbe\\xfb\\xea\\xbc\\xf3\\xcf;\\xfb\\xef\\xbe\\xfb\\xef\\xbe\\xf3\\xcf<\\xff\\x00\\xef\\xbe\\xfb\\xef\\xbe\\xe7\\xcf<\\xf2\\xbf\\xbe\\xfb\\xef\\xbe\\xfb\\xe7<\\xf3\\xcb~\\xfb\\xef\\xbe\\xfb\\xef\\x99\\xf3\\xce\\x1e\\xfb\\xef\\xbe\\xfb\\xef\\xbe\\xf3\\xcf>\\xfb\\xef\\xbe\\xfb\\xef\\xbe\\xc9o<\\xf1\\x1d\\xbe\\xfb\\xef\\xbe\\x9f\\xcf<\\xf3\\xcf,\\xd7\\xef\\xaas\\xcf<\\xf3\\xcf<\\xf3\\xc2\\xfew\\xcf<\\xf3\\xcf<\\xf3\\xcf<\\x0b\\xff\\xc4\\x00\\x1a\\x11\\x00\\x02\\x03\\x01\\x01\\x00\\x00\\x00\\x00\\x00\\x00\\x00\\x00\\x00\\x00\\x00\\x010\\x10\\x11 \\x00@\\xff\\xda\\x00\\x08\\x01\\x03\\x01\\x01?\\x10\\xf0\\x81\\xd5\\x14\\xe2\\x81\\x92\\x81\\x92\\x81\\x92\\xd2\\x90\\xd1%5\\x9a\\xdd\"\\xa4,\\xc0o\\xff\\xc4\\x00\\x1b\\x11\\x01\\x00\\x03\\x01\\x01\\x01\\x01\\x00\\x00\\x00\\x00\\x00\\x00\\x00\\x00\\x00\\x01\\x11 0\\x00\\x101@\\xff\\xda\\x00\\x08\\x01\\x02\\x01\\x01?\\x10\\xfc+\\x1d=<;\\x18?*`\\xd4\\xc1\\xa9\\x8bC\\x14\\xf4\\xc9\\xf4\\xc6yf\\x83i\\xe5\\xbc\\xf0\\xfa\\xb1\\x98\\xee\\xff\\xc4\\x00*\\x10\\x01\\x00\\x01\\x02\\x04\\x05\\x03\\x05\\x01\\x01\\x00\\x00\\x00\\x00\\x00\\x00\\x01\\x11\\x001!0AQ @a\\x81\\xa1q\\xc1\\xf0\\x10\\x91\\xb1\\xd1\\xe1\\xf1P\\xff\\xda\\x00\\x08\\x01\\x01\\x00\\x01?\\x10\\xff\\x00\\xb6iI`%\\xa8\\xa4\\x1d\\xae\\xd6\\xbb\\xba\\xc3\\xf1A\\xdb\\xb8M$\\twQW\\x8a\\xd8\\xd7\\x93\\x19\\xea.\\x81Wr\\xd5]\\xe1p\\xe2q\\x1d\\x9a`\\x8b\\xd8\\x8aR\\xe0\\xc1\\x1eD$\\x1f\\x122\\rG\\x0eH\\xd4\\xdb\\x90\\x9a\\xc9\\x94\\xbd\\x0cr\\x80\\x1c\\x01G\\xa5\\xf3\\xe4\\xf9\\x15\\xca1\\xd5\\x07\\xc6\\x7f\\x86{\\xe5|\\x06\\xd9\\xf1n\\xa7\\xe7\\xfb\\x95\\xe8\\x04<\\x19\\xf2\\xf3\\x81\\r\\x11\\x95$\\xc4\\xc2:9\\xf3\\x1d\\xa1\\xe7)\\xc1\\xeas\\xc56\\xeb\\xb3\\xf1\\xca<\\x07\\x1b\\xff\\x00\\x07\\xbey\\x85\\xc6\\xc8\\xd9(\\x85\"\\x13\\x1bdI\\x81 \\x02\\xebO\\xc4\\xde\\xe4\\'\\x8b\\xf8\\x1c\\x7fy\\x18\\xa3\\xd5\\xfe\\x0f~F\\x1b\\xe0\\x18\\xd2\\x00\\x88\\x8e\"q*`\\x12\\xad2\\xf8\\x0e\\x01\\xb1\\xa7$\\x83L,\\xb4\\x99\\xe2\\x18(\\x91M\\xd3\\x93\\xf5\\xb2\\x1e8\\xbd\\x0c\\xa7\\x8eO\\x13\\x17\\x9e\\xd6\\xf6\\xe2\\xc0\\xc5\\xa7\\xb5\\xbd\\xf9 \\x10\"\\xff\\x00\\x8fZ\\x10\\xe0 8\\x849\\x08JA\"\\xaf\\xfa\\xf5\\xcf\\x92\\x95\\xab\\xa1\\xde\\xa0\\xfa)o\\xed\\x01\\x00\\x0b\\x06@0\\n\\xb8\\xd4\\x9fU-\\xfc\\xa9)Z:=\\xf2\\xe7w\\xa5\\xa5@Hv\\xbe\\xf4$\\x01`#1H\\x12\\xe2MHHv\\xbe\\xf5;\\xbdmx\\xc2\\x80*\\xd85\\xa8GF\\xdb\\xf7hI\\xc3C\\x90Rt\\xd1\\xa9FF\\xfb\\xf6h)\\x02%\\xc7N\\x01\\xa2T\\x05\\x12Xk\\xfe\\x9c\\xa3$\\x82\\xb7\\xedCD\\xa8O\\xa9Cmt\\xe5\\x85\\r\\xbd\\xd4\\xfa1\\x97PP\\xd8@\\x0eXl \\x8d3\\x97P\\xd7\\xff\\xd9'\n"
     ]
    }
   ],
   "source": [
    "r=requests.get(url)\n",
    "print(r.content) #here we are displayed the binary encoding of the picture now we want to convert it to a file and then try opening it "
   ]
  },
  {
   "cell_type": "code",
   "execution_count": 46,
   "id": "d6f0fd5e",
   "metadata": {},
   "outputs": [],
   "source": [
    "with open(\"sample_pic.jpg\",'wb') as f:\n",
    "    f.write(r.content)"
   ]
  },
  {
   "cell_type": "code",
   "execution_count": null,
   "id": "54190575",
   "metadata": {},
   "outputs": [],
   "source": []
  }
 ],
 "metadata": {
  "kernelspec": {
   "display_name": "Python 3 (ipykernel)",
   "language": "python",
   "name": "python3"
  },
  "language_info": {
   "codemirror_mode": {
    "name": "ipython",
    "version": 3
   },
   "file_extension": ".py",
   "mimetype": "text/x-python",
   "name": "python",
   "nbconvert_exporter": "python",
   "pygments_lexer": "ipython3",
   "version": "3.9.7"
  }
 },
 "nbformat": 4,
 "nbformat_minor": 5
}
